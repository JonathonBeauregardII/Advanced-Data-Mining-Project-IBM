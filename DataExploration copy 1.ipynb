{
    "metadata": {
        "kernelspec": {
            "language": "python", 
            "display_name": "Python 3.5 (Experimental) with Spark 1.6", 
            "name": "python3"
        }, 
        "language_info": {
            "version": "3.5.2", 
            "pygments_lexer": "ipython3", 
            "nbconvert_exporter": "python", 
            "name": "python", 
            "file_extension": ".py", 
            "mimetype": "text/x-python", 
            "codemirror_mode": {
                "version": 3, 
                "name": "ipython"
            }
        }
    }, 
    "cells": [
        {
            "execution_count": 7, 
            "cell_type": "code", 
            "source": "from IPython.display import display, HTML\nfrom io import StringIO\nimport requests\nimport json\nimport pandas as pd\n%matplotlib inline\n\nfrom pyspark.sql import SQLContext\nsqlContext = SQLContext(sc)", 
            "metadata": {
                "collapsed": true
            }, 
            "outputs": []
        }, 
        {
            "execution_count": 1, 
            "cell_type": "code", 
            "source": "# The code was removed by DSX for sharing.", 
            "metadata": {
                "collapsed": false, 
                "scrolled": false
            }, 
            "outputs": [
                {
                    "execution_count": 1, 
                    "data": {
                        "text/plain": "[Row(=1, CASE_STATUS='CERTIFIED-WITHDRAWN', EMPLOYER_NAME='UNIVERSITY OF MICHIGAN', SOC_NAME='BIOCHEMISTS AND BIOPHYSICISTS', JOB_TITLE='POSTDOCTORAL RESEARCH FELLOW', FULL_TIME_POSITION='N', PREVAILING_WAGE='36067', YEAR='2016', WORKSITE='ANN ARBOR, MICHIGAN', lon='-83.7430378', lat='42.2808256'),\n Row(=2, CASE_STATUS='CERTIFIED-WITHDRAWN', EMPLOYER_NAME='GOODMAN NETWORKS, INC.', SOC_NAME='CHIEF EXECUTIVES', JOB_TITLE='CHIEF OPERATING OFFICER', FULL_TIME_POSITION='Y', PREVAILING_WAGE='242674', YEAR='2016', WORKSITE='PLANO, TEXAS', lon='-96.6988856', lat='33.0198431'),\n Row(=3, CASE_STATUS='CERTIFIED-WITHDRAWN', EMPLOYER_NAME='PORTS AMERICA GROUP, INC.', SOC_NAME='CHIEF EXECUTIVES', JOB_TITLE='CHIEF PROCESS OFFICER', FULL_TIME_POSITION='Y', PREVAILING_WAGE='193066', YEAR='2016', WORKSITE='JERSEY CITY, NEW JERSEY', lon='-74.0776417', lat='40.7281575'),\n Row(=4, CASE_STATUS='CERTIFIED-WITHDRAWN', EMPLOYER_NAME='GATES CORPORATION, A WHOLLY-OWNED SUBSIDIARY OF TOMKINS PLC', SOC_NAME='CHIEF EXECUTIVES', JOB_TITLE='REGIONAL PRESIDEN, AMERICAS', FULL_TIME_POSITION='Y', PREVAILING_WAGE='220314', YEAR='2016', WORKSITE='DENVER, COLORADO', lon='-104.990251', lat='39.7392358'),\n Row(=5, CASE_STATUS='WITHDRAWN', EMPLOYER_NAME='PEABODY INVESTMENTS CORP.', SOC_NAME='CHIEF EXECUTIVES', JOB_TITLE='PRESIDENT MONGOLIA AND INDIA', FULL_TIME_POSITION='Y', PREVAILING_WAGE='157518.4', YEAR='2016', WORKSITE='ST. LOUIS, MISSOURI', lon='-90.1994042', lat='38.6270025')]"
                    }, 
                    "metadata": {}, 
                    "output_type": "execute_result"
                }
            ]
        }, 
        {
            "execution_count": 19, 
            "cell_type": "code", 
            "source": "df_data_3.head(10)", 
            "metadata": {
                "collapsed": false
            }, 
            "outputs": [
                {
                    "execution_count": 19, 
                    "data": {
                        "text/plain": "[Row(=1, CASE_STATUS='CERTIFIED-WITHDRAWN', EMPLOYER_NAME='UNIVERSITY OF MICHIGAN', SOC_NAME='BIOCHEMISTS AND BIOPHYSICISTS', JOB_TITLE='POSTDOCTORAL RESEARCH FELLOW', FULL_TIME_POSITION='N', PREVAILING_WAGE='36067', YEAR='2016', WORKSITE='ANN ARBOR, MICHIGAN', lon='-83.7430378', lat='42.2808256'),\n Row(=2, CASE_STATUS='CERTIFIED-WITHDRAWN', EMPLOYER_NAME='GOODMAN NETWORKS, INC.', SOC_NAME='CHIEF EXECUTIVES', JOB_TITLE='CHIEF OPERATING OFFICER', FULL_TIME_POSITION='Y', PREVAILING_WAGE='242674', YEAR='2016', WORKSITE='PLANO, TEXAS', lon='-96.6988856', lat='33.0198431'),\n Row(=3, CASE_STATUS='CERTIFIED-WITHDRAWN', EMPLOYER_NAME='PORTS AMERICA GROUP, INC.', SOC_NAME='CHIEF EXECUTIVES', JOB_TITLE='CHIEF PROCESS OFFICER', FULL_TIME_POSITION='Y', PREVAILING_WAGE='193066', YEAR='2016', WORKSITE='JERSEY CITY, NEW JERSEY', lon='-74.0776417', lat='40.7281575'),\n Row(=4, CASE_STATUS='CERTIFIED-WITHDRAWN', EMPLOYER_NAME='GATES CORPORATION, A WHOLLY-OWNED SUBSIDIARY OF TOMKINS PLC', SOC_NAME='CHIEF EXECUTIVES', JOB_TITLE='REGIONAL PRESIDEN, AMERICAS', FULL_TIME_POSITION='Y', PREVAILING_WAGE='220314', YEAR='2016', WORKSITE='DENVER, COLORADO', lon='-104.990251', lat='39.7392358'),\n Row(=5, CASE_STATUS='WITHDRAWN', EMPLOYER_NAME='PEABODY INVESTMENTS CORP.', SOC_NAME='CHIEF EXECUTIVES', JOB_TITLE='PRESIDENT MONGOLIA AND INDIA', FULL_TIME_POSITION='Y', PREVAILING_WAGE='157518.4', YEAR='2016', WORKSITE='ST. LOUIS, MISSOURI', lon='-90.1994042', lat='38.6270025'),\n Row(=6, CASE_STATUS='CERTIFIED-WITHDRAWN', EMPLOYER_NAME='BURGER KING CORPORATION', SOC_NAME='CHIEF EXECUTIVES', JOB_TITLE='EXECUTIVE V P, GLOBAL DEVELOPMENT AND PRESIDENT, LATIN AMERI', FULL_TIME_POSITION='Y', PREVAILING_WAGE='225000', YEAR='2016', WORKSITE='MIAMI, FLORIDA', lon='-80.1917902', lat='25.7616798'),\n Row(=7, CASE_STATUS='CERTIFIED-WITHDRAWN', EMPLOYER_NAME='BT AND MK ENERGY AND COMMODITIES', SOC_NAME='CHIEF EXECUTIVES', JOB_TITLE='CHIEF OPERATING OFFICER', FULL_TIME_POSITION='Y', PREVAILING_WAGE='91021', YEAR='2016', WORKSITE='HOUSTON, TEXAS', lon='-95.3698028', lat='29.7604267'),\n Row(=8, CASE_STATUS='CERTIFIED-WITHDRAWN', EMPLOYER_NAME='GLOBO MOBILE TECHNOLOGIES, INC.', SOC_NAME='CHIEF EXECUTIVES', JOB_TITLE='CHIEF OPERATIONS OFFICER', FULL_TIME_POSITION='Y', PREVAILING_WAGE='150000', YEAR='2016', WORKSITE='SAN JOSE, CALIFORNIA', lon='-121.8863286', lat='37.3382082'),\n Row(=9, CASE_STATUS='CERTIFIED-WITHDRAWN', EMPLOYER_NAME='ESI COMPANIES INC.', SOC_NAME='CHIEF EXECUTIVES', JOB_TITLE='PRESIDENT', FULL_TIME_POSITION='Y', PREVAILING_WAGE='127546', YEAR='2016', WORKSITE='MEMPHIS, TEXAS', lon='NA', lat='NA'),\n Row(=10, CASE_STATUS='WITHDRAWN', EMPLOYER_NAME='LESSARD INTERNATIONAL LLC', SOC_NAME='CHIEF EXECUTIVES', JOB_TITLE='PRESIDENT', FULL_TIME_POSITION='Y', PREVAILING_WAGE='154648', YEAR='2016', WORKSITE='VIENNA, VIRGINIA', lon='-77.2652604', lat='38.9012225')]"
                    }, 
                    "metadata": {}, 
                    "output_type": "execute_result"
                }
            ]
        }, 
        {
            "execution_count": 20, 
            "cell_type": "code", 
            "source": "(df_data_3[['CASE_STATUS', 'SOC_NAME']]).show()\n#use this to make a chart with two indexes", 
            "metadata": {
                "collapsed": false
            }, 
            "outputs": [
                {
                    "output_type": "stream", 
                    "name": "stdout", 
                    "text": "+-------------------+--------------------+\n|        CASE_STATUS|            SOC_NAME|\n+-------------------+--------------------+\n|CERTIFIED-WITHDRAWN|BIOCHEMISTS AND B...|\n|CERTIFIED-WITHDRAWN|    CHIEF EXECUTIVES|\n|CERTIFIED-WITHDRAWN|    CHIEF EXECUTIVES|\n|CERTIFIED-WITHDRAWN|    CHIEF EXECUTIVES|\n|          WITHDRAWN|    CHIEF EXECUTIVES|\n|CERTIFIED-WITHDRAWN|    CHIEF EXECUTIVES|\n|CERTIFIED-WITHDRAWN|    CHIEF EXECUTIVES|\n|CERTIFIED-WITHDRAWN|    CHIEF EXECUTIVES|\n|CERTIFIED-WITHDRAWN|    CHIEF EXECUTIVES|\n|          WITHDRAWN|    CHIEF EXECUTIVES|\n|CERTIFIED-WITHDRAWN|    CHIEF EXECUTIVES|\n|CERTIFIED-WITHDRAWN|    CHIEF EXECUTIVES|\n|CERTIFIED-WITHDRAWN|    CHIEF EXECUTIVES|\n|CERTIFIED-WITHDRAWN|    CHIEF EXECUTIVES|\n|CERTIFIED-WITHDRAWN|    CHIEF EXECUTIVES|\n|CERTIFIED-WITHDRAWN|    CHIEF EXECUTIVES|\n|CERTIFIED-WITHDRAWN|  FINANCIAL MANAGERS|\n|CERTIFIED-WITHDRAWN|    CHIEF EXECUTIVES|\n|          CERTIFIED|    CHIEF EXECUTIVES|\n|          CERTIFIED|    CHIEF EXECUTIVES|\n+-------------------+--------------------+\nonly showing top 20 rows\n\n"
                }
            ]
        }, 
        {
            "execution_count": 24, 
            "cell_type": "code", 
            "source": "df_data_3.select('SOC_NAME').count()", 
            "metadata": {
                "collapsed": false, 
                "scrolled": true
            }, 
            "outputs": [
                {
                    "execution_count": 24, 
                    "data": {
                        "text/plain": "3002458"
                    }, 
                    "metadata": {}, 
                    "output_type": "execute_result"
                }
            ]
        }, 
        {
            "execution_count": 5, 
            "cell_type": "code", 
            "source": "df_data_2['SOC_NAME'].value_counts().count()", 
            "metadata": {
                "collapsed": false
            }, 
            "outputs": [
                {
                    "execution_count": 5, 
                    "data": {
                        "text/plain": "2132"
                    }, 
                    "metadata": {}, 
                    "output_type": "execute_result"
                }
            ]
        }, 
        {
            "execution_count": 6, 
            "cell_type": "code", 
            "source": "testdata=df_data_2.copy()", 
            "metadata": {
                "collapsed": true
            }, 
            "outputs": []
        }, 
        {
            "execution_count": 7, 
            "cell_type": "code", 
            "source": "testdata['SOC_NAME']=df_data_2['SOC_NAME'].str.lower()\ntestdata['EMPLOYER_NAME']=df_data_2['EMPLOYER_NAME'].str.lower()\ntestdata['JOB_TITLE']=df_data_2['JOB_TITLE'].str.lower()", 
            "metadata": {
                "collapsed": false
            }, 
            "outputs": []
        }, 
        {
            "metadata": {}, 
            "cell_type": "markdown", 
            "source": "Here, we transform some strings to lowercase. This is because there are duplicate entries in the dataset which in both upper and lower.\nThis increases redundancy"
        }, 
        {
            "execution_count": 8, 
            "cell_type": "code", 
            "source": "testdata['SOC_NAME'].value_counts()", 
            "metadata": {
                "collapsed": false, 
                "scrolled": true
            }, 
            "outputs": [
                {
                    "execution_count": 8, 
                    "data": {
                        "text/plain": "computer systems analysts                                       506523\nsoftware developers, applications                               414716\ncomputer programmers                                            398546\ncomputer occupations, all other                                 177870\nsoftware developers, systems software                            83856\nmanagement analysts                                              66873\nfinancial analysts                                               53540\naccountants and auditors                                         52822\nmechanical engineers                                             44236\nnetwork and computer systems administrators                      40087\ndatabase administrators                                          38982\nmarket research analysts and marketing specialists               37737\nelectronics engineers, except computer                           36574\noperations research analysts                                     34260\nelectrical engineers                                             34108\nphysicians and surgeons, all other                               33526\ncomputer software engineers, applications                        33387\ncomputer and information systems managers                        27536\ncomputer occupations, all other*                                 26254\nmedical scientists, except epidemiologists                       26159\nphysical therapists                                              21994\nbiochemists and biophysicists                                    21245\nindustrial engineers                                             19370\ncomputer systems analyst                                         17426\nstatisticians                                                    17101\nbiological scientists, all other                                 16367\nmarketing managers                                               16310\ncivil engineers                                                  15970\nweb developers                                                   15000\ninternists, general                                              13367\n                                                                 ...  \nhelpers--electricians                                                1\nindustrial designers                                                 1\nlogistics manager                                                    1\nelectronics engineers, expert computer                               1\nhardward engineers                                                   1\nsoil and plant scientist                                             1\nmechanical engineers, r&d (acwia only)                               1\ntiming device assemblers and adjusters                               1\ntelecommunications line installers and repairers                     1\nbiological science teachers                                          1\ndentist                                                              1\ncomputer systems engineers/arquitects                                1\nsecondary school teachers,                                           1\ncomputer systems anaysts                                             1\ncounseling psychologist                                              1\nsoftware engineer, senior                                            1\nhealth diagnosing & treating practitioners, all ot                   1\nset and exhibit engineers                                            1\nhelpers, construction trades, all other                              1\ndatebase administrators                                              1\ncommercial and insdistrial designers                                 1\nsoftware developers, appllications                                   1\ncomputer occupations,all other                                       1\nforeign language and literature teachers, postsecondary              1\ndentists                                                             1\nrailroad conductors and yardmasters                                  1\ncomputer occupations, all other: information techn                   1\ncomputer network architect                                           1\ncriminal justice and law enforcement teachers, postsecondary         1\nmedical scientists, except epidemiologist                            1\nName: SOC_NAME, dtype: int64"
                    }, 
                    "metadata": {}, 
                    "output_type": "execute_result"
                }
            ]
        }, 
        {
            "metadata": {}, 
            "cell_type": "markdown", 
            "source": "There is still alot of redundancy we can exploit. We can generalize these strings remove specalized strings into more general form.\nFor example 'software engineer, senior' needs to be reduced to 'software engineer'.\nThis also applies to the other columns with string attributes."
        }, 
        {
            "execution_count": 9, 
            "cell_type": "code", 
            "source": "testdata['SOC_NAME'].value_counts().count()", 
            "metadata": {
                "collapsed": false, 
                "scrolled": true
            }, 
            "outputs": [
                {
                    "execution_count": 9, 
                    "data": {
                        "text/plain": "1585"
                    }, 
                    "metadata": {}, 
                    "output_type": "execute_result"
                }
            ]
        }, 
        {
            "execution_count": 10, 
            "cell_type": "code", 
            "source": "df = pd.DataFrame({'SOC_NAME': testdata['SOC_NAME'].value_counts().index, 'Count':testdata['SOC_NAME'].value_counts().values})\n#df['Counts'] = df.groupby(['SOC_NAME'])['Count'].transform('count') #I don't remember what I was trying to do here.\ndf = df.set_index(['SOC_NAME'])\ndf", 
            "metadata": {
                "collapsed": false, 
                "scrolled": true
            }, 
            "outputs": [
                {
                    "execution_count": 10, 
                    "data": {
                        "text/html": "<div>\n<table border=\"1\" class=\"dataframe\">\n  <thead>\n    <tr style=\"text-align: right;\">\n      <th></th>\n      <th>Count</th>\n    </tr>\n    <tr>\n      <th>SOC_NAME</th>\n      <th></th>\n    </tr>\n  </thead>\n  <tbody>\n    <tr>\n      <th>computer systems analysts</th>\n      <td>506523</td>\n    </tr>\n    <tr>\n      <th>software developers, applications</th>\n      <td>414716</td>\n    </tr>\n    <tr>\n      <th>computer programmers</th>\n      <td>398546</td>\n    </tr>\n    <tr>\n      <th>computer occupations, all other</th>\n      <td>177870</td>\n    </tr>\n    <tr>\n      <th>software developers, systems software</th>\n      <td>83856</td>\n    </tr>\n    <tr>\n      <th>management analysts</th>\n      <td>66873</td>\n    </tr>\n    <tr>\n      <th>financial analysts</th>\n      <td>53540</td>\n    </tr>\n    <tr>\n      <th>accountants and auditors</th>\n      <td>52822</td>\n    </tr>\n    <tr>\n      <th>mechanical engineers</th>\n      <td>44236</td>\n    </tr>\n    <tr>\n      <th>network and computer systems administrators</th>\n      <td>40087</td>\n    </tr>\n    <tr>\n      <th>database administrators</th>\n      <td>38982</td>\n    </tr>\n    <tr>\n      <th>market research analysts and marketing specialists</th>\n      <td>37737</td>\n    </tr>\n    <tr>\n      <th>electronics engineers, except computer</th>\n      <td>36574</td>\n    </tr>\n    <tr>\n      <th>operations research analysts</th>\n      <td>34260</td>\n    </tr>\n    <tr>\n      <th>electrical engineers</th>\n      <td>34108</td>\n    </tr>\n    <tr>\n      <th>physicians and surgeons, all other</th>\n      <td>33526</td>\n    </tr>\n    <tr>\n      <th>computer software engineers, applications</th>\n      <td>33387</td>\n    </tr>\n    <tr>\n      <th>computer and information systems managers</th>\n      <td>27536</td>\n    </tr>\n    <tr>\n      <th>computer occupations, all other*</th>\n      <td>26254</td>\n    </tr>\n    <tr>\n      <th>medical scientists, except epidemiologists</th>\n      <td>26159</td>\n    </tr>\n    <tr>\n      <th>physical therapists</th>\n      <td>21994</td>\n    </tr>\n    <tr>\n      <th>biochemists and biophysicists</th>\n      <td>21245</td>\n    </tr>\n    <tr>\n      <th>industrial engineers</th>\n      <td>19370</td>\n    </tr>\n    <tr>\n      <th>computer systems analyst</th>\n      <td>17426</td>\n    </tr>\n    <tr>\n      <th>statisticians</th>\n      <td>17101</td>\n    </tr>\n    <tr>\n      <th>biological scientists, all other</th>\n      <td>16367</td>\n    </tr>\n    <tr>\n      <th>marketing managers</th>\n      <td>16310</td>\n    </tr>\n    <tr>\n      <th>civil engineers</th>\n      <td>15970</td>\n    </tr>\n    <tr>\n      <th>web developers</th>\n      <td>15000</td>\n    </tr>\n    <tr>\n      <th>internists, general</th>\n      <td>13367</td>\n    </tr>\n    <tr>\n      <th>...</th>\n      <td>...</td>\n    </tr>\n    <tr>\n      <th>helpers--electricians</th>\n      <td>1</td>\n    </tr>\n    <tr>\n      <th>industrial designers</th>\n      <td>1</td>\n    </tr>\n    <tr>\n      <th>logistics manager</th>\n      <td>1</td>\n    </tr>\n    <tr>\n      <th>electronics engineers, expert computer</th>\n      <td>1</td>\n    </tr>\n    <tr>\n      <th>hardward engineers</th>\n      <td>1</td>\n    </tr>\n    <tr>\n      <th>soil and plant scientist</th>\n      <td>1</td>\n    </tr>\n    <tr>\n      <th>mechanical engineers, r&amp;d (acwia only)</th>\n      <td>1</td>\n    </tr>\n    <tr>\n      <th>timing device assemblers and adjusters</th>\n      <td>1</td>\n    </tr>\n    <tr>\n      <th>telecommunications line installers and repairers</th>\n      <td>1</td>\n    </tr>\n    <tr>\n      <th>biological science teachers</th>\n      <td>1</td>\n    </tr>\n    <tr>\n      <th>dentist</th>\n      <td>1</td>\n    </tr>\n    <tr>\n      <th>computer systems engineers/arquitects</th>\n      <td>1</td>\n    </tr>\n    <tr>\n      <th>secondary school teachers,</th>\n      <td>1</td>\n    </tr>\n    <tr>\n      <th>computer systems anaysts</th>\n      <td>1</td>\n    </tr>\n    <tr>\n      <th>counseling psychologist</th>\n      <td>1</td>\n    </tr>\n    <tr>\n      <th>software engineer, senior</th>\n      <td>1</td>\n    </tr>\n    <tr>\n      <th>health diagnosing &amp; treating practitioners, all ot</th>\n      <td>1</td>\n    </tr>\n    <tr>\n      <th>set and exhibit engineers</th>\n      <td>1</td>\n    </tr>\n    <tr>\n      <th>helpers, construction trades, all other</th>\n      <td>1</td>\n    </tr>\n    <tr>\n      <th>datebase administrators</th>\n      <td>1</td>\n    </tr>\n    <tr>\n      <th>commercial and insdistrial designers</th>\n      <td>1</td>\n    </tr>\n    <tr>\n      <th>software developers, appllications</th>\n      <td>1</td>\n    </tr>\n    <tr>\n      <th>computer occupations,all other</th>\n      <td>1</td>\n    </tr>\n    <tr>\n      <th>foreign language and literature teachers, postsecondary</th>\n      <td>1</td>\n    </tr>\n    <tr>\n      <th>dentists</th>\n      <td>1</td>\n    </tr>\n    <tr>\n      <th>railroad conductors and yardmasters</th>\n      <td>1</td>\n    </tr>\n    <tr>\n      <th>computer occupations, all other: information techn</th>\n      <td>1</td>\n    </tr>\n    <tr>\n      <th>computer network architect</th>\n      <td>1</td>\n    </tr>\n    <tr>\n      <th>criminal justice and law enforcement teachers, postsecondary</th>\n      <td>1</td>\n    </tr>\n    <tr>\n      <th>medical scientists, except epidemiologist</th>\n      <td>1</td>\n    </tr>\n  </tbody>\n</table>\n<p>1585 rows \u00d7 1 columns</p>\n</div>", 
                        "text/plain": "                                                     Count\nSOC_NAME                                                  \ncomputer systems analysts                           506523\nsoftware developers, applications                   414716\ncomputer programmers                                398546\ncomputer occupations, all other                     177870\nsoftware developers, systems software                83856\nmanagement analysts                                  66873\nfinancial analysts                                   53540\naccountants and auditors                             52822\nmechanical engineers                                 44236\nnetwork and computer systems administrators          40087\ndatabase administrators                              38982\nmarket research analysts and marketing specialists   37737\nelectronics engineers, except computer               36574\noperations research analysts                         34260\nelectrical engineers                                 34108\nphysicians and surgeons, all other                   33526\ncomputer software engineers, applications            33387\ncomputer and information systems managers            27536\ncomputer occupations, all other*                     26254\nmedical scientists, except epidemiologists           26159\nphysical therapists                                  21994\nbiochemists and biophysicists                        21245\nindustrial engineers                                 19370\ncomputer systems analyst                             17426\nstatisticians                                        17101\nbiological scientists, all other                     16367\nmarketing managers                                   16310\ncivil engineers                                      15970\nweb developers                                       15000\ninternists, general                                  13367\n...                                                    ...\nhelpers--electricians                                    1\nindustrial designers                                     1\nlogistics manager                                        1\nelectronics engineers, expert computer                   1\nhardward engineers                                       1\nsoil and plant scientist                                 1\nmechanical engineers, r&d (acwia only)                   1\ntiming device assemblers and adjusters                   1\ntelecommunications line installers and repairers         1\nbiological science teachers                              1\ndentist                                                  1\ncomputer systems engineers/arquitects                    1\nsecondary school teachers,                               1\ncomputer systems anaysts                                 1\ncounseling psychologist                                  1\nsoftware engineer, senior                                1\nhealth diagnosing & treating practitioners, all ot       1\nset and exhibit engineers                                1\nhelpers, construction trades, all other                  1\ndatebase administrators                                  1\ncommercial and insdistrial designers                     1\nsoftware developers, appllications                       1\ncomputer occupations,all other                           1\nforeign language and literature teachers, posts...       1\ndentists                                                 1\nrailroad conductors and yardmasters                      1\ncomputer occupations, all other: information techn       1\ncomputer network architect                               1\ncriminal justice and law enforcement teachers, ...       1\nmedical scientists, except epidemiologist                1\n\n[1585 rows x 1 columns]"
                    }, 
                    "metadata": {}, 
                    "output_type": "execute_result"
                }
            ]
        }, 
        {
            "execution_count": 11, 
            "cell_type": "code", 
            "source": "df['New_Name'] = ''", 
            "metadata": {
                "collapsed": false
            }, 
            "outputs": []
        }, 
        {
            "execution_count": null, 
            "cell_type": "code", 
            "source": "df", 
            "metadata": {
                "collapsed": false
            }, 
            "outputs": [
                {
                    "execution_count": 12, 
                    "data": {
                        "text/html": "<div>\n<table border=\"1\" class=\"dataframe\">\n  <thead>\n    <tr style=\"text-align: right;\">\n      <th></th>\n      <th>Count</th>\n      <th>New_Name</th>\n    </tr>\n    <tr>\n      <th>SOC_NAME</th>\n      <th></th>\n      <th></th>\n    </tr>\n  </thead>\n  <tbody>\n    <tr>\n      <th>computer systems analysts</th>\n      <td>506523</td>\n      <td></td>\n    </tr>\n    <tr>\n      <th>software developers, applications</th>\n      <td>414716</td>\n      <td></td>\n    </tr>\n    <tr>\n      <th>computer programmers</th>\n      <td>398546</td>\n      <td></td>\n    </tr>\n    <tr>\n      <th>computer occupations, all other</th>\n      <td>177870</td>\n      <td></td>\n    </tr>\n    <tr>\n      <th>software developers, systems software</th>\n      <td>83856</td>\n      <td></td>\n    </tr>\n    <tr>\n      <th>management analysts</th>\n      <td>66873</td>\n      <td></td>\n    </tr>\n    <tr>\n      <th>financial analysts</th>\n      <td>53540</td>\n      <td></td>\n    </tr>\n    <tr>\n      <th>accountants and auditors</th>\n      <td>52822</td>\n      <td></td>\n    </tr>\n    <tr>\n      <th>mechanical engineers</th>\n      <td>44236</td>\n      <td></td>\n    </tr>\n    <tr>\n      <th>network and computer systems administrators</th>\n      <td>40087</td>\n      <td></td>\n    </tr>\n    <tr>\n      <th>database administrators</th>\n      <td>38982</td>\n      <td></td>\n    </tr>\n    <tr>\n      <th>market research analysts and marketing specialists</th>\n      <td>37737</td>\n      <td></td>\n    </tr>\n    <tr>\n      <th>electronics engineers, except computer</th>\n      <td>36574</td>\n      <td></td>\n    </tr>\n    <tr>\n      <th>operations research analysts</th>\n      <td>34260</td>\n      <td></td>\n    </tr>\n    <tr>\n      <th>electrical engineers</th>\n      <td>34108</td>\n      <td></td>\n    </tr>\n    <tr>\n      <th>physicians and surgeons, all other</th>\n      <td>33526</td>\n      <td></td>\n    </tr>\n    <tr>\n      <th>computer software engineers, applications</th>\n      <td>33387</td>\n      <td></td>\n    </tr>\n    <tr>\n      <th>computer and information systems managers</th>\n      <td>27536</td>\n      <td></td>\n    </tr>\n    <tr>\n      <th>computer occupations, all other*</th>\n      <td>26254</td>\n      <td></td>\n    </tr>\n    <tr>\n      <th>medical scientists, except epidemiologists</th>\n      <td>26159</td>\n      <td></td>\n    </tr>\n    <tr>\n      <th>physical therapists</th>\n      <td>21994</td>\n      <td></td>\n    </tr>\n    <tr>\n      <th>biochemists and biophysicists</th>\n      <td>21245</td>\n      <td></td>\n    </tr>\n    <tr>\n      <th>industrial engineers</th>\n      <td>19370</td>\n      <td></td>\n    </tr>\n    <tr>\n      <th>computer systems analyst</th>\n      <td>17426</td>\n      <td></td>\n    </tr>\n    <tr>\n      <th>statisticians</th>\n      <td>17101</td>\n      <td></td>\n    </tr>\n    <tr>\n      <th>biological scientists, all other</th>\n      <td>16367</td>\n      <td></td>\n    </tr>\n    <tr>\n      <th>marketing managers</th>\n      <td>16310</td>\n      <td></td>\n    </tr>\n    <tr>\n      <th>civil engineers</th>\n      <td>15970</td>\n      <td></td>\n    </tr>\n    <tr>\n      <th>web developers</th>\n      <td>15000</td>\n      <td></td>\n    </tr>\n    <tr>\n      <th>internists, general</th>\n      <td>13367</td>\n      <td></td>\n    </tr>\n    <tr>\n      <th>...</th>\n      <td>...</td>\n      <td>...</td>\n    </tr>\n    <tr>\n      <th>helpers--electricians</th>\n      <td>1</td>\n      <td></td>\n    </tr>\n    <tr>\n      <th>industrial designers</th>\n      <td>1</td>\n      <td></td>\n    </tr>\n    <tr>\n      <th>logistics manager</th>\n      <td>1</td>\n      <td></td>\n    </tr>\n    <tr>\n      <th>electronics engineers, expert computer</th>\n      <td>1</td>\n      <td></td>\n    </tr>\n    <tr>\n      <th>hardward engineers</th>\n      <td>1</td>\n      <td></td>\n    </tr>\n    <tr>\n      <th>soil and plant scientist</th>\n      <td>1</td>\n      <td></td>\n    </tr>\n    <tr>\n      <th>mechanical engineers, r&amp;d (acwia only)</th>\n      <td>1</td>\n      <td></td>\n    </tr>\n    <tr>\n      <th>timing device assemblers and adjusters</th>\n      <td>1</td>\n      <td></td>\n    </tr>\n    <tr>\n      <th>telecommunications line installers and repairers</th>\n      <td>1</td>\n      <td></td>\n    </tr>\n    <tr>\n      <th>biological science teachers</th>\n      <td>1</td>\n      <td></td>\n    </tr>\n    <tr>\n      <th>dentist</th>\n      <td>1</td>\n      <td></td>\n    </tr>\n    <tr>\n      <th>computer systems engineers/arquitects</th>\n      <td>1</td>\n      <td></td>\n    </tr>\n    <tr>\n      <th>secondary school teachers,</th>\n      <td>1</td>\n      <td></td>\n    </tr>\n    <tr>\n      <th>computer systems anaysts</th>\n      <td>1</td>\n      <td></td>\n    </tr>\n    <tr>\n      <th>counseling psychologist</th>\n      <td>1</td>\n      <td></td>\n    </tr>\n    <tr>\n      <th>software engineer, senior</th>\n      <td>1</td>\n      <td></td>\n    </tr>\n    <tr>\n      <th>health diagnosing &amp; treating practitioners, all ot</th>\n      <td>1</td>\n      <td></td>\n    </tr>\n    <tr>\n      <th>set and exhibit engineers</th>\n      <td>1</td>\n      <td></td>\n    </tr>\n    <tr>\n      <th>helpers, construction trades, all other</th>\n      <td>1</td>\n      <td></td>\n    </tr>\n    <tr>\n      <th>datebase administrators</th>\n      <td>1</td>\n      <td></td>\n    </tr>\n    <tr>\n      <th>commercial and insdistrial designers</th>\n      <td>1</td>\n      <td></td>\n    </tr>\n    <tr>\n      <th>software developers, appllications</th>\n      <td>1</td>\n      <td></td>\n    </tr>\n    <tr>\n      <th>computer occupations,all other</th>\n      <td>1</td>\n      <td></td>\n    </tr>\n    <tr>\n      <th>foreign language and literature teachers, postsecondary</th>\n      <td>1</td>\n      <td></td>\n    </tr>\n    <tr>\n      <th>dentists</th>\n      <td>1</td>\n      <td></td>\n    </tr>\n    <tr>\n      <th>railroad conductors and yardmasters</th>\n      <td>1</td>\n      <td></td>\n    </tr>\n    <tr>\n      <th>computer occupations, all other: information techn</th>\n      <td>1</td>\n      <td></td>\n    </tr>\n    <tr>\n      <th>computer network architect</th>\n      <td>1</td>\n      <td></td>\n    </tr>\n    <tr>\n      <th>criminal justice and law enforcement teachers, postsecondary</th>\n      <td>1</td>\n      <td></td>\n    </tr>\n    <tr>\n      <th>medical scientists, except epidemiologist</th>\n      <td>1</td>\n      <td></td>\n    </tr>\n  </tbody>\n</table>\n<p>1585 rows \u00d7 2 columns</p>\n</div>", 
                        "text/plain": "                                                     Count New_Name\nSOC_NAME                                                           \ncomputer systems analysts                           506523         \nsoftware developers, applications                   414716         \ncomputer programmers                                398546         \ncomputer occupations, all other                     177870         \nsoftware developers, systems software                83856         \nmanagement analysts                                  66873         \nfinancial analysts                                   53540         \naccountants and auditors                             52822         \nmechanical engineers                                 44236         \nnetwork and computer systems administrators          40087         \ndatabase administrators                              38982         \nmarket research analysts and marketing specialists   37737         \nelectronics engineers, except computer               36574         \noperations research analysts                         34260         \nelectrical engineers                                 34108         \nphysicians and surgeons, all other                   33526         \ncomputer software engineers, applications            33387         \ncomputer and information systems managers            27536         \ncomputer occupations, all other*                     26254         \nmedical scientists, except epidemiologists           26159         \nphysical therapists                                  21994         \nbiochemists and biophysicists                        21245         \nindustrial engineers                                 19370         \ncomputer systems analyst                             17426         \nstatisticians                                        17101         \nbiological scientists, all other                     16367         \nmarketing managers                                   16310         \ncivil engineers                                      15970         \nweb developers                                       15000         \ninternists, general                                  13367         \n...                                                    ...      ...\nhelpers--electricians                                    1         \nindustrial designers                                     1         \nlogistics manager                                        1         \nelectronics engineers, expert computer                   1         \nhardward engineers                                       1         \nsoil and plant scientist                                 1         \nmechanical engineers, r&d (acwia only)                   1         \ntiming device assemblers and adjusters                   1         \ntelecommunications line installers and repairers         1         \nbiological science teachers                              1         \ndentist                                                  1         \ncomputer systems engineers/arquitects                    1         \nsecondary school teachers,                               1         \ncomputer systems anaysts                                 1         \ncounseling psychologist                                  1         \nsoftware engineer, senior                                1         \nhealth diagnosing & treating practitioners, all ot       1         \nset and exhibit engineers                                1         \nhelpers, construction trades, all other                  1         \ndatebase administrators                                  1         \ncommercial and insdistrial designers                     1         \nsoftware developers, appllications                       1         \ncomputer occupations,all other                           1         \nforeign language and literature teachers, posts...       1         \ndentists                                                 1         \nrailroad conductors and yardmasters                      1         \ncomputer occupations, all other: information techn       1         \ncomputer network architect                               1         \ncriminal justice and law enforcement teachers, ...       1         \nmedical scientists, except epidemiologist                1         \n\n[1585 rows x 2 columns]"
                    }, 
                    "metadata": {}, 
                    "output_type": "execute_result"
                }
            ]
        }, 
        {
            "execution_count": null, 
            "cell_type": "code", 
            "source": "%timeit\nfor index, row in testdata.iterrows():\n    if(str(row['SOC_NAME']).endswith('*')):\n        row['SOC_NAME']=str(row['SOC_NAME'])[:-1]\n    if not (str(row['SOC_NAME']).endswith('s')):\n        row['SOC_NAME']=str(row['SOC_NAME'])+'s'\n    #if row=='software developers, appllications': #in progress\n        #print(row)", 
            "metadata": {
                "collapsed": false, 
                "scrolled": true
            }, 
            "outputs": []
        }, 
        {
            "execution_count": null, 
            "cell_type": "code", 
            "source": "(testdata.loc[(testdata['SOC_NAME']=='software developers, appllications')]) #an example of a query", 
            "metadata": {
                "collapsed": false
            }, 
            "outputs": []
        }, 
        {
            "metadata": {}, 
            "cell_type": "markdown", 
            "source": "This person messed up the SOC_NAME"
        }
    ], 
    "nbformat": 4, 
    "nbformat_minor": 0
}